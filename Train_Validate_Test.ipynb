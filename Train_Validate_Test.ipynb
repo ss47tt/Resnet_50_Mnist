{
 "cells": [
  {
   "cell_type": "markdown",
   "id": "c280ea5a",
   "metadata": {},
   "source": [
    "# MNIST with Pytorch"
   ]
  },
  {
   "cell_type": "markdown",
   "id": "436f85b8",
   "metadata": {},
   "source": [
    "## Steps to do data training, validating, and testing"
   ]
  },
  {
   "cell_type": "markdown",
   "id": "d11a635f",
   "metadata": {},
   "source": [
    "### 1. Import libraries"
   ]
  },
  {
   "cell_type": "code",
   "execution_count": 1,
   "id": "2ec99498",
   "metadata": {},
   "outputs": [],
   "source": [
    "import torch\n",
    "import torchvision.transforms as transforms\n",
    "from torchvision.datasets import ImageFolder\n",
    "from torch.utils.data import DataLoader, random_split\n",
    "from torchvision.models import resnet50, ResNet50_Weights\n",
    "import torch.nn as nn\n",
    "import torch.optim as optim\n",
    "from tqdm.auto import tqdm\n",
    "from sklearn.metrics import confusion_matrix, classification_report\n",
    "import numpy as np\n",
    "import seaborn as sns\n",
    "import matplotlib.pyplot as plt\n",
    "import json"
   ]
  },
  {
   "cell_type": "markdown",
   "id": "5d28c978",
   "metadata": {},
   "source": [
    "### 2. Load training and validating dataset"
   ]
  },
  {
   "cell_type": "code",
   "execution_count": 2,
   "id": "3871c94d",
   "metadata": {},
   "outputs": [],
   "source": [
    "train_path=\"./sampled_train\"\n",
    "batch_size=64\n",
    "split_ratio=0.9\n",
    "transform = transforms.Compose([\n",
    "    transforms.Grayscale(num_output_channels=3),\n",
    "    transforms.Resize((224, 224)),\n",
    "    transforms.ToTensor(),\n",
    "    transforms.Normalize(mean=[0.131, 0.131, 0.131], std=[0.290, 0.290, 0.290])\n",
    "])\n",
    "dataset = ImageFolder(root=train_path, transform=transform)\n",
    "train_size = int(split_ratio * len(dataset))\n",
    "val_size = len(dataset) - train_size\n",
    "train_dataset, val_dataset = random_split(dataset, [train_size, val_size])\n",
    "\n",
    "train_loader = DataLoader(train_dataset, batch_size=batch_size, shuffle=True)\n",
    "val_loader = DataLoader(val_dataset, batch_size=batch_size, shuffle=False)"
   ]
  },
  {
   "cell_type": "markdown",
   "id": "22514e7a",
   "metadata": {},
   "source": [
    "### 3. Load ResNet model"
   ]
  },
  {
   "cell_type": "code",
   "execution_count": 3,
   "id": "86c95dfb",
   "metadata": {},
   "outputs": [],
   "source": [
    "model = resnet50(weights=ResNet50_Weights.IMAGENET1K_V1)\n",
    "model.fc = nn.Linear(model.fc.in_features, 10)  # Adjusting for 10 classes"
   ]
  },
  {
   "cell_type": "markdown",
   "id": "9f84f98a",
   "metadata": {},
   "source": [
    "### 4. Train and validate model"
   ]
  },
  {
   "cell_type": "code",
   "execution_count": 4,
   "id": "437bc1d9",
   "metadata": {},
   "outputs": [
    {
     "data": {
      "application/vnd.jupyter.widget-view+json": {
       "model_id": "713b4cb6ede94da4a26e6a474ddaf7d5",
       "version_major": 2,
       "version_minor": 0
      },
      "text/plain": [
       "Epoch 1/100:   0%|          | 0/704 [00:00<?, ?it/s]"
      ]
     },
     "metadata": {},
     "output_type": "display_data"
    },
    {
     "name": "stdout",
     "output_type": "stream",
     "text": [
      "Epoch 1/100 | LR: 0.001000 | Train Loss: 0.1095 | Train Acc: 96.68% | Val Loss: 0.0807 | Val Acc: 97.64%\n"
     ]
    },
    {
     "data": {
      "application/vnd.jupyter.widget-view+json": {
       "model_id": "ce149b65cca94fa4bb26d5aab240faef",
       "version_major": 2,
       "version_minor": 0
      },
      "text/plain": [
       "Epoch 2/100:   0%|          | 0/704 [00:00<?, ?it/s]"
      ]
     },
     "metadata": {},
     "output_type": "display_data"
    },
    {
     "name": "stdout",
     "output_type": "stream",
     "text": [
      "Epoch 2/100 | LR: 0.001000 | Train Loss: 0.0546 | Train Acc: 98.34% | Val Loss: 0.0398 | Val Acc: 98.50%\n"
     ]
    },
    {
     "data": {
      "application/vnd.jupyter.widget-view+json": {
       "model_id": "7dfc2121430f4cd3913526a7f0bf92b5",
       "version_major": 2,
       "version_minor": 0
      },
      "text/plain": [
       "Epoch 3/100:   0%|          | 0/704 [00:00<?, ?it/s]"
      ]
     },
     "metadata": {},
     "output_type": "display_data"
    },
    {
     "name": "stdout",
     "output_type": "stream",
     "text": [
      "Epoch 3/100 | LR: 0.001000 | Train Loss: 0.0424 | Train Acc: 98.66% | Val Loss: 0.0546 | Val Acc: 98.44%\n"
     ]
    },
    {
     "data": {
      "application/vnd.jupyter.widget-view+json": {
       "model_id": "0bd7561e30a842208e7ce6811eeed88b",
       "version_major": 2,
       "version_minor": 0
      },
      "text/plain": [
       "Epoch 4/100:   0%|          | 0/704 [00:00<?, ?it/s]"
      ]
     },
     "metadata": {},
     "output_type": "display_data"
    },
    {
     "name": "stdout",
     "output_type": "stream",
     "text": [
      "Epoch 4/100 | LR: 0.001000 | Train Loss: 0.0386 | Train Acc: 98.89% | Val Loss: 0.0671 | Val Acc: 98.16%\n"
     ]
    },
    {
     "data": {
      "application/vnd.jupyter.widget-view+json": {
       "model_id": "aa2063bb8fa1464380c25817fac69e51",
       "version_major": 2,
       "version_minor": 0
      },
      "text/plain": [
       "Epoch 5/100:   0%|          | 0/704 [00:00<?, ?it/s]"
      ]
     },
     "metadata": {},
     "output_type": "display_data"
    },
    {
     "name": "stdout",
     "output_type": "stream",
     "text": [
      "Epoch 5/100 | LR: 0.001000 | Train Loss: 0.0366 | Train Acc: 98.85% | Val Loss: 0.0364 | Val Acc: 98.92%\n"
     ]
    },
    {
     "data": {
      "application/vnd.jupyter.widget-view+json": {
       "model_id": "2cbb000a423540bbbb9b2d83183b32b9",
       "version_major": 2,
       "version_minor": 0
      },
      "text/plain": [
       "Epoch 6/100:   0%|          | 0/704 [00:00<?, ?it/s]"
      ]
     },
     "metadata": {},
     "output_type": "display_data"
    },
    {
     "name": "stdout",
     "output_type": "stream",
     "text": [
      "Epoch 6/100 | LR: 0.001000 | Train Loss: 0.0302 | Train Acc: 99.08% | Val Loss: 0.0317 | Val Acc: 99.04%\n"
     ]
    },
    {
     "data": {
      "application/vnd.jupyter.widget-view+json": {
       "model_id": "0c31adce0e2540cc89f69ccdf252bec5",
       "version_major": 2,
       "version_minor": 0
      },
      "text/plain": [
       "Epoch 7/100:   0%|          | 0/704 [00:00<?, ?it/s]"
      ]
     },
     "metadata": {},
     "output_type": "display_data"
    },
    {
     "name": "stdout",
     "output_type": "stream",
     "text": [
      "Epoch 7/100 | LR: 0.001000 | Train Loss: 0.0256 | Train Acc: 99.24% | Val Loss: 0.0415 | Val Acc: 98.90%\n"
     ]
    },
    {
     "data": {
      "application/vnd.jupyter.widget-view+json": {
       "model_id": "103fe8d685dc4648bd470e835cd8128c",
       "version_major": 2,
       "version_minor": 0
      },
      "text/plain": [
       "Epoch 8/100:   0%|          | 0/704 [00:00<?, ?it/s]"
      ]
     },
     "metadata": {},
     "output_type": "display_data"
    },
    {
     "name": "stdout",
     "output_type": "stream",
     "text": [
      "Epoch 8/100 | LR: 0.001000 | Train Loss: 0.0227 | Train Acc: 99.29% | Val Loss: 0.0442 | Val Acc: 98.82%\n"
     ]
    },
    {
     "data": {
      "application/vnd.jupyter.widget-view+json": {
       "model_id": "e4848950b6d647bb9114c534a9a78982",
       "version_major": 2,
       "version_minor": 0
      },
      "text/plain": [
       "Epoch 9/100:   0%|          | 0/704 [00:00<?, ?it/s]"
      ]
     },
     "metadata": {},
     "output_type": "display_data"
    },
    {
     "name": "stdout",
     "output_type": "stream",
     "text": [
      "Epoch 9/100 | LR: 0.001000 | Train Loss: 0.0197 | Train Acc: 99.36% | Val Loss: 0.0372 | Val Acc: 98.84%\n"
     ]
    },
    {
     "data": {
      "application/vnd.jupyter.widget-view+json": {
       "model_id": "5dcf66bac3b14de8ab18f8aa223cc0bf",
       "version_major": 2,
       "version_minor": 0
      },
      "text/plain": [
       "Epoch 10/100:   0%|          | 0/704 [00:00<?, ?it/s]"
      ]
     },
     "metadata": {},
     "output_type": "display_data"
    },
    {
     "name": "stdout",
     "output_type": "stream",
     "text": [
      "Epoch 10/100 | LR: 0.001000 | Train Loss: 0.0211 | Train Acc: 99.36% | Val Loss: 0.0310 | Val Acc: 99.04%\n"
     ]
    },
    {
     "data": {
      "application/vnd.jupyter.widget-view+json": {
       "model_id": "faddd5bf765e4f2c8fa838857bf79426",
       "version_major": 2,
       "version_minor": 0
      },
      "text/plain": [
       "Epoch 11/100:   0%|          | 0/704 [00:00<?, ?it/s]"
      ]
     },
     "metadata": {},
     "output_type": "display_data"
    },
    {
     "name": "stdout",
     "output_type": "stream",
     "text": [
      "Epoch 11/100 | LR: 0.001000 | Train Loss: 0.0208 | Train Acc: 99.35% | Val Loss: 0.0293 | Val Acc: 99.08%\n"
     ]
    },
    {
     "data": {
      "application/vnd.jupyter.widget-view+json": {
       "model_id": "df99a12eb81d4460bc9397997003dc79",
       "version_major": 2,
       "version_minor": 0
      },
      "text/plain": [
       "Epoch 12/100:   0%|          | 0/704 [00:00<?, ?it/s]"
      ]
     },
     "metadata": {},
     "output_type": "display_data"
    },
    {
     "name": "stdout",
     "output_type": "stream",
     "text": [
      "Epoch 12/100 | LR: 0.001000 | Train Loss: 0.0133 | Train Acc: 99.57% | Val Loss: 0.0468 | Val Acc: 98.56%\n"
     ]
    },
    {
     "data": {
      "application/vnd.jupyter.widget-view+json": {
       "model_id": "9bf7c555aa8f40d68250f8351cd0bb53",
       "version_major": 2,
       "version_minor": 0
      },
      "text/plain": [
       "Epoch 13/100:   0%|          | 0/704 [00:00<?, ?it/s]"
      ]
     },
     "metadata": {},
     "output_type": "display_data"
    },
    {
     "name": "stdout",
     "output_type": "stream",
     "text": [
      "Epoch 13/100 | LR: 0.001000 | Train Loss: 0.0137 | Train Acc: 99.60% | Val Loss: 0.0481 | Val Acc: 98.88%\n"
     ]
    },
    {
     "data": {
      "application/vnd.jupyter.widget-view+json": {
       "model_id": "7fbe88e3da344b228b146929455eae0a",
       "version_major": 2,
       "version_minor": 0
      },
      "text/plain": [
       "Epoch 14/100:   0%|          | 0/704 [00:00<?, ?it/s]"
      ]
     },
     "metadata": {},
     "output_type": "display_data"
    },
    {
     "name": "stdout",
     "output_type": "stream",
     "text": [
      "Epoch 14/100 | LR: 0.001000 | Train Loss: 0.0148 | Train Acc: 99.51% | Val Loss: 0.0239 | Val Acc: 99.38%\n"
     ]
    },
    {
     "data": {
      "application/vnd.jupyter.widget-view+json": {
       "model_id": "41b92a7b5ed14d278a652f58cd710213",
       "version_major": 2,
       "version_minor": 0
      },
      "text/plain": [
       "Epoch 15/100:   0%|          | 0/704 [00:00<?, ?it/s]"
      ]
     },
     "metadata": {},
     "output_type": "display_data"
    },
    {
     "name": "stdout",
     "output_type": "stream",
     "text": [
      "Epoch 15/100 | LR: 0.001000 | Train Loss: 0.0110 | Train Acc: 99.66% | Val Loss: 0.0302 | Val Acc: 99.12%\n"
     ]
    },
    {
     "data": {
      "application/vnd.jupyter.widget-view+json": {
       "model_id": "2d55c91eb7e4433199ece76a157ba1e5",
       "version_major": 2,
       "version_minor": 0
      },
      "text/plain": [
       "Epoch 16/100:   0%|          | 0/704 [00:00<?, ?it/s]"
      ]
     },
     "metadata": {},
     "output_type": "display_data"
    },
    {
     "name": "stdout",
     "output_type": "stream",
     "text": [
      "Epoch 16/100 | LR: 0.001000 | Train Loss: 0.0113 | Train Acc: 99.62% | Val Loss: 0.0358 | Val Acc: 99.16%\n"
     ]
    },
    {
     "data": {
      "application/vnd.jupyter.widget-view+json": {
       "model_id": "ba41cbe9d561401ea635712c5a7b59f9",
       "version_major": 2,
       "version_minor": 0
      },
      "text/plain": [
       "Epoch 17/100:   0%|          | 0/704 [00:00<?, ?it/s]"
      ]
     },
     "metadata": {},
     "output_type": "display_data"
    },
    {
     "name": "stdout",
     "output_type": "stream",
     "text": [
      "Epoch 17/100 | LR: 0.001000 | Train Loss: 0.0103 | Train Acc: 99.66% | Val Loss: 0.0326 | Val Acc: 99.10%\n"
     ]
    },
    {
     "data": {
      "application/vnd.jupyter.widget-view+json": {
       "model_id": "fac573ad4f684a6bbe2c0b8975a97aab",
       "version_major": 2,
       "version_minor": 0
      },
      "text/plain": [
       "Epoch 18/100:   0%|          | 0/704 [00:00<?, ?it/s]"
      ]
     },
     "metadata": {},
     "output_type": "display_data"
    },
    {
     "name": "stdout",
     "output_type": "stream",
     "text": [
      "Epoch 18/100 | LR: 0.001000 | Train Loss: 0.0079 | Train Acc: 99.71% | Val Loss: 0.0400 | Val Acc: 98.88%\n"
     ]
    },
    {
     "data": {
      "application/vnd.jupyter.widget-view+json": {
       "model_id": "5dc78f0a9b954f69b0c8afb9db2eed1a",
       "version_major": 2,
       "version_minor": 0
      },
      "text/plain": [
       "Epoch 19/100:   0%|          | 0/704 [00:00<?, ?it/s]"
      ]
     },
     "metadata": {},
     "output_type": "display_data"
    },
    {
     "name": "stdout",
     "output_type": "stream",
     "text": [
      "Epoch 19/100 | LR: 0.000100 | Train Loss: 0.0048 | Train Acc: 99.84% | Val Loss: 0.0213 | Val Acc: 99.40%\n"
     ]
    },
    {
     "data": {
      "application/vnd.jupyter.widget-view+json": {
       "model_id": "6c5310c10fd04412808e29675032a84d",
       "version_major": 2,
       "version_minor": 0
      },
      "text/plain": [
       "Epoch 20/100:   0%|          | 0/704 [00:00<?, ?it/s]"
      ]
     },
     "metadata": {},
     "output_type": "display_data"
    },
    {
     "name": "stdout",
     "output_type": "stream",
     "text": [
      "Epoch 20/100 | LR: 0.000100 | Train Loss: 0.0013 | Train Acc: 99.97% | Val Loss: 0.0186 | Val Acc: 99.48%\n"
     ]
    },
    {
     "data": {
      "application/vnd.jupyter.widget-view+json": {
       "model_id": "da121c44c8294616a7ca05b753980d20",
       "version_major": 2,
       "version_minor": 0
      },
      "text/plain": [
       "Epoch 21/100:   0%|          | 0/704 [00:00<?, ?it/s]"
      ]
     },
     "metadata": {},
     "output_type": "display_data"
    },
    {
     "name": "stdout",
     "output_type": "stream",
     "text": [
      "Epoch 21/100 | LR: 0.000100 | Train Loss: 0.0009 | Train Acc: 99.99% | Val Loss: 0.0182 | Val Acc: 99.58%\n"
     ]
    },
    {
     "data": {
      "application/vnd.jupyter.widget-view+json": {
       "model_id": "3de7d73dc97f49cb98cc4487aa6c49e8",
       "version_major": 2,
       "version_minor": 0
      },
      "text/plain": [
       "Epoch 22/100:   0%|          | 0/704 [00:00<?, ?it/s]"
      ]
     },
     "metadata": {},
     "output_type": "display_data"
    },
    {
     "name": "stdout",
     "output_type": "stream",
     "text": [
      "Epoch 22/100 | LR: 0.000100 | Train Loss: 0.0007 | Train Acc: 99.99% | Val Loss: 0.0186 | Val Acc: 99.48%\n"
     ]
    },
    {
     "data": {
      "application/vnd.jupyter.widget-view+json": {
       "model_id": "33487be9b454400394ae785248faebd4",
       "version_major": 2,
       "version_minor": 0
      },
      "text/plain": [
       "Epoch 23/100:   0%|          | 0/704 [00:00<?, ?it/s]"
      ]
     },
     "metadata": {},
     "output_type": "display_data"
    },
    {
     "name": "stdout",
     "output_type": "stream",
     "text": [
      "Epoch 23/100 | LR: 0.000100 | Train Loss: 0.0004 | Train Acc: 100.00% | Val Loss: 0.0199 | Val Acc: 99.48%\n"
     ]
    },
    {
     "data": {
      "application/vnd.jupyter.widget-view+json": {
       "model_id": "5a1c5f8a910f4992bead1bcd2365a4bd",
       "version_major": 2,
       "version_minor": 0
      },
      "text/plain": [
       "Epoch 24/100:   0%|          | 0/704 [00:00<?, ?it/s]"
      ]
     },
     "metadata": {},
     "output_type": "display_data"
    },
    {
     "name": "stdout",
     "output_type": "stream",
     "text": [
      "Epoch 24/100 | LR: 0.000100 | Train Loss: 0.0002 | Train Acc: 100.00% | Val Loss: 0.0203 | Val Acc: 99.46%\n"
     ]
    },
    {
     "data": {
      "application/vnd.jupyter.widget-view+json": {
       "model_id": "6dd5a5b83d4c4db597fd862e4aa5b285",
       "version_major": 2,
       "version_minor": 0
      },
      "text/plain": [
       "Epoch 25/100:   0%|          | 0/704 [00:00<?, ?it/s]"
      ]
     },
     "metadata": {},
     "output_type": "display_data"
    },
    {
     "name": "stdout",
     "output_type": "stream",
     "text": [
      "Epoch 25/100 | LR: 0.000100 | Train Loss: 0.0002 | Train Acc: 100.00% | Val Loss: 0.0204 | Val Acc: 99.48%\n"
     ]
    },
    {
     "data": {
      "application/vnd.jupyter.widget-view+json": {
       "model_id": "2c1b6662198840c79fa703d1e6c8ad6b",
       "version_major": 2,
       "version_minor": 0
      },
      "text/plain": [
       "Epoch 26/100:   0%|          | 0/704 [00:00<?, ?it/s]"
      ]
     },
     "metadata": {},
     "output_type": "display_data"
    },
    {
     "name": "stdout",
     "output_type": "stream",
     "text": [
      "Epoch 26/100 | LR: 0.000010 | Train Loss: 0.0001 | Train Acc: 100.00% | Val Loss: 0.0205 | Val Acc: 99.48%\n",
      "Early stopping triggered after 26 epochs!\n"
     ]
    }
   ],
   "source": [
    "epochs=100\n",
    "lr=0.001\n",
    "patience=5\n",
    "device = torch.device(\"cuda\" if torch.cuda.is_available() else \"cpu\")\n",
    "model.to(device)\n",
    "\n",
    "criterion = nn.CrossEntropyLoss()\n",
    "optimizer = optim.Adam(model.parameters(), lr=lr)\n",
    "scheduler = torch.optim.lr_scheduler.ReduceLROnPlateau(optimizer, mode='min', patience=3, factor=0.1)\n",
    "\n",
    "best_val_loss = float(\"inf\")\n",
    "early_stop_counter = 0\n",
    "\n",
    "for epoch in range(epochs):\n",
    "    model.train()\n",
    "    total_loss = 0\n",
    "    correct, total = 0, 0\n",
    "\n",
    "    progress_bar = tqdm(train_loader, desc=f\"Epoch {epoch+1}/{epochs}\", leave=True)\n",
    "    for images, labels in progress_bar:\n",
    "        images, labels = images.to(device), labels.to(device)\n",
    "\n",
    "        optimizer.zero_grad()\n",
    "        outputs = model(images)\n",
    "        loss = criterion(outputs, labels)\n",
    "        loss.backward()\n",
    "        optimizer.step()\n",
    "\n",
    "        total_loss += loss.item()\n",
    "        _, predicted = torch.max(outputs, 1)\n",
    "        total += labels.size(0)\n",
    "        correct += (predicted == labels).sum().item()\n",
    "        progress_bar.set_postfix(loss=f\"{loss.item():.4f}\")\n",
    "\n",
    "    train_avg_loss = total_loss / len(train_loader)\n",
    "    train_acc = correct / total * 100\n",
    "\n",
    "    # Validation\n",
    "    model.eval()\n",
    "    val_correct, val_total = 0, 0\n",
    "    val_total_loss = 0\n",
    "    with torch.no_grad():\n",
    "        for images, labels in val_loader:\n",
    "            images, labels = images.to(device), labels.to(device)\n",
    "            outputs = model(images)\n",
    "            loss = criterion(outputs, labels)\n",
    "            val_total_loss += loss.item()\n",
    "            _, predicted = torch.max(outputs, 1)\n",
    "            val_total += labels.size(0)\n",
    "            val_correct += (predicted == labels).sum().item()\n",
    "\n",
    "    val_loss = val_total_loss / len(val_loader)\n",
    "    val_acc = val_correct / val_total * 100\n",
    "    current_lr = optimizer.param_groups[0]['lr']\n",
    "\n",
    "    print(f\"Epoch {epoch+1}/{epochs} | LR: {current_lr:.6f} | \"\n",
    "            f\"Train Loss: {train_avg_loss:.4f} | Train Acc: {train_acc:.2f}% | \"\n",
    "            f\"Val Loss: {val_loss:.4f} | Val Acc: {val_acc:.2f}%\")\n",
    "\n",
    "    # Save best model and handle early stopping\n",
    "    if val_loss < best_val_loss:\n",
    "        best_val_loss = val_loss\n",
    "        torch.save(model.state_dict(), 'best_resnet50_model.pth')\n",
    "        early_stop_counter = 0\n",
    "    else:\n",
    "        early_stop_counter += 1\n",
    "        if early_stop_counter >= patience:\n",
    "            print(f\"Early stopping triggered after {epoch+1} epochs!\")\n",
    "            break\n",
    "\n",
    "    scheduler.step(val_loss)\n",
    "    \n",
    "# Save final model\n",
    "torch.save(model.state_dict(), 'final_resnet50_model.pth')"
   ]
  },
  {
   "cell_type": "markdown",
   "id": "cda2f12e",
   "metadata": {},
   "source": [
    "### 5. Load test dataset"
   ]
  },
  {
   "cell_type": "code",
   "execution_count": 12,
   "id": "b52e134d",
   "metadata": {},
   "outputs": [],
   "source": [
    "test_path=\"./sampled_test\"\n",
    "batch_size=64\n",
    "transform = transforms.Compose([\n",
    "    transforms.Grayscale(num_output_channels=3),  # Convert to 3 channels for ResNet\n",
    "    transforms.Resize((224, 224)),\n",
    "    transforms.ToTensor(),\n",
    "    transforms.Normalize(mean=[0.133, 0.133, 0.133], std=[0.292, 0.292, 0.292])  # Normalize for 3 channels\n",
    "])\n",
    "test_dataset = ImageFolder(root=test_path, transform=transform)\n",
    "test_loader = DataLoader(test_dataset, batch_size=batch_size, shuffle=False)"
   ]
  },
  {
   "cell_type": "markdown",
   "id": "89e9f810",
   "metadata": {},
   "source": [
    "### 6. Load saved training model"
   ]
  },
  {
   "cell_type": "code",
   "execution_count": 13,
   "id": "0009d3e1",
   "metadata": {},
   "outputs": [
    {
     "data": {
      "text/plain": [
       "<All keys matched successfully>"
      ]
     },
     "execution_count": 13,
     "metadata": {},
     "output_type": "execute_result"
    }
   ],
   "source": [
    "model.load_state_dict(torch.load('final_resnet50_model.pth', weights_only=True))"
   ]
  },
  {
   "cell_type": "markdown",
   "id": "c0918375",
   "metadata": {},
   "source": [
    "### 7. Evaluate on test data"
   ]
  },
  {
   "cell_type": "code",
   "execution_count": 14,
   "id": "7c7f2aeb",
   "metadata": {},
   "outputs": [
    {
     "data": {
      "application/vnd.jupyter.widget-view+json": {
       "model_id": "9f6818585bd04ad889764e9636c495ee",
       "version_major": 2,
       "version_minor": 0
      },
      "text/plain": [
       "Evaluating:   0%|          | 0/79 [00:00<?, ?it/s]"
      ]
     },
     "metadata": {},
     "output_type": "display_data"
    }
   ],
   "source": [
    "device = torch.device(\"cuda\" if torch.cuda.is_available() else \"cpu\")\n",
    "model.to(device)\n",
    "model.eval()\n",
    "\n",
    "y_true, y_pred = [], []\n",
    "progress_bar = tqdm(test_loader, desc=\"Evaluating\", leave=True)\n",
    "\n",
    "with torch.no_grad():\n",
    "    for images, labels in progress_bar:\n",
    "        images, labels = images.to(device), labels.to(device)\n",
    "        outputs = model(images)\n",
    "        _, predicted = torch.max(outputs, 1)\n",
    "        y_true.extend(labels.cpu().numpy())\n",
    "        y_pred.extend(predicted.cpu().numpy())"
   ]
  },
  {
   "cell_type": "markdown",
   "id": "027b35c3",
   "metadata": {},
   "source": [
    "### 8. Compute, print, and save confusion matrix"
   ]
  },
  {
   "cell_type": "code",
   "execution_count": 24,
   "id": "02e96772",
   "metadata": {},
   "outputs": [
    {
     "name": "stdout",
     "output_type": "stream",
     "text": [
      "[[500   0   0   0   0   0   0   0   0   0]\n",
      " [  0 499   1   0   0   0   0   0   0   0]\n",
      " [  0   0 499   0   0   0   0   1   0   0]\n",
      " [  0   0   1 496   0   2   0   0   0   1]\n",
      " [  0   0   0   0 500   0   0   0   0   0]\n",
      " [  0   0   0   2   0 497   1   0   0   0]\n",
      " [  1   2   1   0   1   1 493   0   1   0]\n",
      " [  0   2   1   0   0   0   0 497   0   0]\n",
      " [  1   0   1   0   0   0   0   0 498   0]\n",
      " [  0   0   0   0   1   0   0   3   0 496]]\n",
      "Confusion matrix saved as 'confusion_matrix.png'\n"
     ]
    },
    {
     "data": {
      "image/png": "[encoded data removed]",
      "text/plain": [
       "<Figure size 1000x800 with 2 Axes>"
      ]
     },
     "metadata": {},
     "output_type": "display_data"
    }
   ],
   "source": [
    "cm = confusion_matrix(y_true, y_pred)\n",
    "plt.figure(figsize=(10, 8))\n",
    "sns.heatmap(cm, annot=True, fmt=\"d\", cmap=\"Blues\", xticklabels=test_dataset.classes, yticklabels=test_dataset.classes)\n",
    "plt.xlabel(\"Predicted\")\n",
    "plt.ylabel(\"True\")\n",
    "plt.title(\"Confusion Matrix\")\n",
    "plt.savefig(\"confusion_matrix.png\")\n",
    "\n",
    "print(cm)\n",
    "\n",
    "print(\"Confusion matrix saved as 'confusion_matrix.png'\")"
   ]
  },
  {
   "cell_type": "markdown",
   "id": "b78ad9a2",
   "metadata": {},
   "source": [
    "### 9. Compute, print, and save classification report"
   ]
  },
  {
   "cell_type": "code",
   "execution_count": 25,
   "id": "bdc39c5d",
   "metadata": {},
   "outputs": [
    {
     "name": "stdout",
     "output_type": "stream",
     "text": [
      "{'0': {'precision': 0.9960159362549801, 'recall': 1.0, 'f1-score': 0.998003992015968, 'support': 500.0}, '1': {'precision': 0.9920477137176938, 'recall': 0.998, 'f1-score': 0.9950149551345963, 'support': 500.0}, '2': {'precision': 0.9900793650793651, 'recall': 0.998, 'f1-score': 0.9940239043824701, 'support': 500.0}, '3': {'precision': 0.9959839357429718, 'recall': 0.992, 'f1-score': 0.9939879759519038, 'support': 500.0}, '4': {'precision': 0.9960159362549801, 'recall': 1.0, 'f1-score': 0.998003992015968, 'support': 500.0}, '5': {'precision': 0.994, 'recall': 0.994, 'f1-score': 0.994, 'support': 500.0}, '6': {'precision': 0.9979757085020243, 'recall': 0.986, 'f1-score': 0.9919517102615694, 'support': 500.0}, '7': {'precision': 0.9920159680638723, 'recall': 0.994, 'f1-score': 0.993006993006993, 'support': 500.0}, '8': {'precision': 0.9979959919839679, 'recall': 0.996, 'f1-score': 0.996996996996997, 'support': 500.0}, '9': {'precision': 0.9979879275653923, 'recall': 0.992, 'f1-score': 0.9949849548645938, 'support': 500.0}, 'accuracy': 0.995, 'macro avg': {'precision': 0.9950118483165247, 'recall': 0.9949999999999999, 'f1-score': 0.9949975474631059, 'support': 5000.0}, 'weighted avg': {'precision': 0.9950118483165248, 'recall': 0.995, 'f1-score': 0.9949975474631059, 'support': 5000.0}}\n",
      "Classification report saved as 'classification_report.json'\n"
     ]
    }
   ],
   "source": [
    "report = classification_report(y_true, y_pred, target_names=test_dataset.classes, output_dict=True)\n",
    "with open(\"classification_report.json\", \"w\") as f:\n",
    "    json.dump(report, f, indent=4)\n",
    "\n",
    "print (report)\n",
    "    \n",
    "print(\"Classification report saved as 'classification_report.json'\")"
   ]
  },
  {
   "cell_type": "markdown",
   "id": "b42baa3e",
   "metadata": {},
   "source": [
    "### "
   ]
  },
  {
   "cell_type": "markdown",
   "id": "6e2b66cc",
   "metadata": {},
   "source": [
    "### "
   ]
  },
  {
   "cell_type": "markdown",
   "id": "ce302099",
   "metadata": {},
   "source": [
    "### "
   ]
  },
  {
   "cell_type": "markdown",
   "id": "ac6013ab",
   "metadata": {},
   "source": [
    "### "
   ]
  }
 ],
 "metadata": {
  "kernelspec": {
   "display_name": "py310",
   "language": "python",
   "name": "python3"
  },
  "language_info": {
   "codemirror_mode": {
    "name": "ipython",
    "version": 3
   },
   "file_extension": ".py",
   "mimetype": "text/x-python",
   "name": "python",
   "nbconvert_exporter": "python",
   "pygments_lexer": "ipython3",
   "version": "3.10.16"
  }
 },
 "nbformat": 4,
 "nbformat_minor": 5
}
